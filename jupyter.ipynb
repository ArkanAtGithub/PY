{
 "cells": [
  {
   "cell_type": "code",
   "execution_count": null,
   "metadata": {},
   "outputs": [],
   "source": [
    "import numpy as np\n",
    "import matplotlib.pyplot as plt\n",
    "\n",
    "# File path\n",
    "file_path = '~/Downloads/data-20240810-2243.circuitjs.txt'\n",
    "\n",
    "# Time step in seconds\n",
    "time_step = 0.000005\n",
    "\n",
    "# Read the file and extract the data\n",
    "with open(file_path, 'r') as file:\n",
    "    lines = file.readlines()\n",
    "\n",
    "# Skip the first line and convert the rest to floats\n",
    "data = [float(line.strip()) for line in lines[1:]]\n",
    "\n",
    "# Generate the time array\n",
    "time = np.arange(0, len(data) * time_step, time_step)\n",
    "\n",
    "# Plot the data\n",
    "plt.figure(figsize=(10, 6))\n",
    "plt.plot(time, data)\n",
    "plt.title('Time Series Data')\n",
    "plt.xlabel('Time (seconds)')\n",
    "plt.ylabel('Value')\n",
    "plt.grid(True)\n",
    "plt.show()\n"
   ]
  }
 ],
 "metadata": {
  "language_info": {
   "name": "python"
  }
 },
 "nbformat": 4,
 "nbformat_minor": 2
}
